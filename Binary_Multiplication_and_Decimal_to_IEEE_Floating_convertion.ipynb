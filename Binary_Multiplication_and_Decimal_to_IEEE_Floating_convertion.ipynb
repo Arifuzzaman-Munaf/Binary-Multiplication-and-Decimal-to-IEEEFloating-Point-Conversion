{
  "nbformat": 4,
  "nbformat_minor": 0,
  "metadata": {
    "colab": {
      "name": "Binary Multiplication and Decimal to IEEE Floating convertion.ipynb",
      "provenance": [],
      "collapsed_sections": []
    },
    "kernelspec": {
      "name": "python3",
      "display_name": "Python 3"
    },
    "language_info": {
      "name": "python"
    }
  },
  "cells": [
    {
      "cell_type": "markdown",
      "metadata": {
        "id": "OANBqwtdrjNZ"
      },
      "source": [
        "# **Long Multiplication**\n",
        "\n",
        "---\n",
        "\n"
      ]
    },
    {
      "cell_type": "code",
      "metadata": {
        "id": "pmIcLifWhC-l"
      },
      "source": [
        "def left_shift(n):\n",
        "    n = n[1:]\n",
        "    return n + '0'\n",
        " \n",
        "def right_shift(n):\n",
        "    n=n[0:-1]\n",
        "    return \"0\" + n\n",
        " \n",
        "def add(product, multiplicand ):\n",
        "    prod = bin(int(product,2)).replace(\"0b\",\"\")\n",
        "    mplicand = bin(int(multiplicand,2)).replace(\"0b\",\"\")\n",
        "    product = bin(int(prod,2) + int(mplicand,2)).replace(\"0b\",\"\")\n",
        "    bit_size = len(multiplicand)\n",
        "    zeros = bit_size - len(product)\n",
        "    for i in range(zeros):\n",
        "        product = '0' + product\n",
        "    return product"
      ],
      "execution_count": null,
      "outputs": []
    },
    {
      "cell_type": "code",
      "metadata": {
        "id": "Wagf6Cdh61Rs",
        "colab": {
          "base_uri": "https://localhost:8080/"
        },
        "outputId": "5ee50f62-ffb5-4afa-9ffa-c9544f352270"
      },
      "source": [
        "a = multiplicand = \"00011100\"\n",
        "b = multiplier = \"0011\"\n",
        "product = '0' * len(multiplier)*2\n",
        "multiplicand = '0'*(len(product)-len(multiplicand))+multiplicand\n",
        "print(\"Iteration                    Step                    Multuplier                Multiplicand              Product\")\n",
        "print(\"_________________________________________________________________________________________________________________________________\")\n",
        "print(f\"0                      initial values                 {multiplier}                    {multiplicand}                {product}\\n\")\n",
        "print(\"_________________________________________________________________________________________________________________________________\")\n",
        "for i in range(len(multiplier)):\n",
        "    if multiplier[-1] == '1':\n",
        "        product = add(product,multiplicand)\n",
        "        print(f\"                       Prod=Prod+Mcand                {multiplier}                    {multiplicand}                {product}\\n\")\n",
        "    multiplicand = left_shift(multiplicand)\n",
        "    print(f\"{i+1}                      Left Shift Mcand               {multiplier}                    {multiplicand}                {product}\\n\")\n",
        "    multiplier = right_shift(multiplier)\n",
        "    print(f\"                       right Shift Mplier             {multiplier}                    {multiplicand}                {product}\\n\")\n",
        "    print(\"_______________________________________________________________________________________________________________________________\")\n",
        " \n",
        "print(f\"\\nThe product of Multiplicand = {a}({int(a,2)}) and Multiplier = {b}({int(b,2)}) is = {product}({int(product,2)})\")"
      ],
      "execution_count": null,
      "outputs": [
        {
          "output_type": "stream",
          "text": [
            "Iteration                    Step                    Multuplier                Multiplicand              Product\n",
            "_________________________________________________________________________________________________________________________________\n",
            "0                      initial values                 0011                    00011100                00000000\n",
            "\n",
            "_________________________________________________________________________________________________________________________________\n",
            "                       Prod=Prod+Mcand                0011                    00011100                00011100\n",
            "\n",
            "1                      Left Shift Mcand               0011                    00111000                00011100\n",
            "\n",
            "                       right Shift Mplier             0001                    00111000                00011100\n",
            "\n",
            "_______________________________________________________________________________________________________________________________\n",
            "                       Prod=Prod+Mcand                0001                    00111000                01010100\n",
            "\n",
            "2                      Left Shift Mcand               0001                    01110000                01010100\n",
            "\n",
            "                       right Shift Mplier             0000                    01110000                01010100\n",
            "\n",
            "_______________________________________________________________________________________________________________________________\n",
            "3                      Left Shift Mcand               0000                    11100000                01010100\n",
            "\n",
            "                       right Shift Mplier             0000                    11100000                01010100\n",
            "\n",
            "_______________________________________________________________________________________________________________________________\n",
            "4                      Left Shift Mcand               0000                    11000000                01010100\n",
            "\n",
            "                       right Shift Mplier             0000                    11000000                01010100\n",
            "\n",
            "_______________________________________________________________________________________________________________________________\n",
            "\n",
            "The product of Multiplicand = 00011100(28) and Multiplier = 0011(3) is = 01010100(84)\n"
          ],
          "name": "stdout"
        }
      ]
    },
    {
      "cell_type": "markdown",
      "metadata": {
        "id": "rg7lW3uRsnz3"
      },
      "source": [
        "# **Optimized Multiplier**\n",
        "\n",
        "---\n",
        "\n"
      ]
    },
    {
      "cell_type": "code",
      "metadata": {
        "colab": {
          "base_uri": "https://localhost:8080/"
        },
        "id": "sKLtWs58ssnr",
        "outputId": "11059e64-5565-4584-d0f3-4b55b0bda2eb"
      },
      "source": [
        "def binary_add(a,b):\n",
        "    sum = int(a,2) + int(b,2)\n",
        "    return bin(sum).replace(\"0b\",'')\n",
        "\n",
        "\n",
        "multiplicand = \"01011\"\n",
        "multiplier = \"10101\"\n",
        "bit_size = len(multiplier)*2\n",
        "zeros = bit_size - len(multiplier)\n",
        "\n",
        "prod_sub_1 = \"0\"*zeros\n",
        "prod = prod_sub_1 + multiplier\n",
        "\n",
        "print(\"Iteration        Step        Multiplicand          Multiplier              Prod\")\n",
        "print(\"__________________________________________________________________________________________________________________\")\n",
        "print(f\"0               initial         {multiplicand}              {multiplier}                {prod}\")\n",
        "print(\"__________________________________________________________________________________________________________________\\n\")\n",
        "for i in range(len(multiplicand)):\n",
        "    if prod[-1] == '1':\n",
        "        prod = binary_add(prod , multiplicand+prod_sub_1)\n",
        "        zeros = \"0\"*(bit_size - len(prod))\n",
        "        prod = zeros + prod\n",
        "        print(f\"                Add Mplicand    {multiplicand}              {multiplier}                {prod}\") \n",
        "    prod = right_shift(prod)\n",
        "    print(f\"{i+1}               Right Shift     {multiplicand}              {multiplier}                {prod}\")\n",
        "    print(\"__________________________________________________________________________________________________________________\\n\")"
      ],
      "execution_count": null,
      "outputs": [
        {
          "output_type": "stream",
          "text": [
            "Iteration        Step        Multiplicand          Multiplier              Prod\n",
            "__________________________________________________________________________________________________________________\n",
            "0               initial         01011              10101                0000010101\n",
            "__________________________________________________________________________________________________________________\n",
            "\n",
            "                Add Mplicand    01011              10101                0101110101\n",
            "1               Right Shift     01011              10101                0010111010\n",
            "__________________________________________________________________________________________________________________\n",
            "\n",
            "2               Right Shift     01011              10101                0001011101\n",
            "__________________________________________________________________________________________________________________\n",
            "\n",
            "                Add Mplicand    01011              10101                0110111101\n",
            "3               Right Shift     01011              10101                0011011110\n",
            "__________________________________________________________________________________________________________________\n",
            "\n",
            "4               Right Shift     01011              10101                0001101111\n",
            "__________________________________________________________________________________________________________________\n",
            "\n",
            "                Add Mplicand    01011              10101                0111001111\n",
            "5               Right Shift     01011              10101                0011100111\n",
            "__________________________________________________________________________________________________________________\n",
            "\n"
          ],
          "name": "stdout"
        }
      ]
    },
    {
      "cell_type": "markdown",
      "metadata": {
        "id": "AQeS5DqO8nKG"
      },
      "source": [
        "# **Decimal to IEEE floationg Point representation**"
      ]
    },
    {
      "cell_type": "code",
      "metadata": {
        "id": "fjKUuoq4xGdX"
      },
      "source": [
        "from tabulate import tabulate\n",
        "def decimal_converter(num): \n",
        "    while num > 1:\n",
        "        num /= 10\n",
        "    return num\n",
        "\n",
        "def decimal_to_bin(my_number , places):\n",
        "    my_whole, my_dec = str(my_number).split(\".\")\n",
        "    my_whole = int(my_whole)\n",
        "    res = (str(bin(my_whole))+\".\").replace('0b','')\n",
        "  \n",
        "    for x in range(places):\n",
        "        my_dec = str('0.')+str(my_dec)\n",
        "        temp = '%1.20f' %(float(my_dec)*2)\n",
        "        my_whole, my_dec = temp.split(\".\")\n",
        "        res += my_whole\n",
        "    return res\n",
        "\n",
        "\n",
        "\n",
        "def normalizedForm_1(n):\n",
        "    num = list(n)\n",
        "    power = 0\n",
        "    for i in num :\n",
        "        if num.index(\".\") == 1:\n",
        "            break\n",
        "        index = num.index('.')-1\n",
        "        item = num[index]\n",
        "        num[index] = '.'\n",
        "        num[index+1] = item\n",
        "        power += 1\n",
        "\n",
        "    normalized_form = ''\n",
        "    for i in num :\n",
        "        normalized_form += i\n",
        "\n",
        "    return normalized_form + f\"* 2^{power}\",power\n",
        "def normalizedForm_2(n):\n",
        "    new_num = \"\"\n",
        "    x = n.split('.')\n",
        "    c = 0\n",
        "    power = 0\n",
        "    if x[0] == '0':\n",
        "        for i in x[1]:\n",
        "            if i is not '0' or c >= 1:\n",
        "                new_num += i\n",
        "                c +=1\n",
        "            else:\n",
        "                power -= 1\n",
        "\n",
        "    num = new_num[0]+'.'+ new_num[1:] \n",
        "    power -= 1\n",
        "    num = list(num)\n",
        "    normalized_form = ''\n",
        "    for i in num :\n",
        "        normalized_form += i\n",
        "    return normalized_form + f\"* 2^{power}\",power\n"
      ],
      "execution_count": null,
      "outputs": []
    },
    {
      "cell_type": "code",
      "metadata": {
        "colab": {
          "base_uri": "https://localhost:8080/"
        },
        "id": "2s2h7zDBGH8t",
        "outputId": "245740ab-c186-46f4-ec55-eea185d715a2"
      },
      "source": [
        "number_to_convert = \"17301107.0\"   # Edit these lines             \n",
        "fraction_bit = 11               # \n",
        "exponent_bit = 7              #\n",
        "#################################\n",
        "\n",
        "sign_bit = 0\n",
        "if number_to_convert.startswith(\"-\") :\n",
        "    sign_bit = 1\n",
        "\n",
        "number_to_convert = number_to_convert.replace('-','')\n",
        "\n",
        "result = decimal_to_bin(number_to_convert ,10)\n",
        "print(f\"\\nThe binary of {number_to_convert} = {result}\")\n",
        "\n",
        "if result.startswith('0.'):\n",
        "    normalized_form ,power = normalizedForm_2(result)\n",
        "else :\n",
        "    normalized_form ,power = normalizedForm_1(result)\n",
        "print(f\"\\nThe normalized form of {result} is = {normalized_form}\")\n",
        "\n",
        "bias = 2**(exponent_bit-1) -1\n",
        "biased_exponent = power + bias\n",
        "print(f\"Bias = {bias}\")\n",
        "x = bin(biased_exponent).replace('0b','')\n",
        "biased_exponent_binary = '0'*(exponent_bit-len(x)) + x\n",
        "\n",
        "print(f\"The biased exponent is = {power}+{bias} = {biased_exponent}(in binary:{biased_exponent_binary})\")\n",
        "\n",
        "exponent = biased_exponent_binary + '0'*(exponent_bit-len(biased_exponent_binary))\n",
        "fraction = normalized_form[2:].split('*')[0] + '0'*(fraction_bit - len(normalized_form[2:].split('*')[0]))\n",
        "\n",
        "IEEE = str(sign_bit)+str(exponent)[0:exponent_bit] +fraction[0:fraction_bit]\n",
        "table = [['Sign Bit', 'Exponent', 'Fraction/Mantissa', 'Hexadecimal'],[sign_bit,exponent[0:exponent_bit],fraction[0:fraction_bit],hex(int(IEEE,2)).upper()]]\n",
        "\n",
        "print(f\"\\nThe IEEE-754 Floating point representation : {IEEE}\")\n",
        "print(tabulate(table, headers='firstrow', tablefmt='fancy_grid',numalign='center'))\n"
      ],
      "execution_count": null,
      "outputs": [
        {
          "output_type": "stream",
          "text": [
            "\n",
            "The binary of 17301107.0 = 1000001111111111001110011.0000000000\n",
            "\n",
            "The normalized form of 1000001111111111001110011.0000000000 is = 1.0000011111111110011100110000000000* 2^24\n",
            "Bias = 63\n",
            "The biased exponent is = 24+63 = 87(in binary:1010111)\n",
            "\n",
            "The IEEE-754 Floating point representation : 0101011100000111111\n",
            "╒════════════╤════════════╤═════════════════════╤═══════════════╕\n",
            "│  Sign Bit  │  Exponent  │  Fraction/Mantissa  │ Hexadecimal   │\n",
            "╞════════════╪════════════╪═════════════════════╪═══════════════╡\n",
            "│     0      │  1010111   │     00000111111     │ 0X2B83F       │\n",
            "╘════════════╧════════════╧═════════════════════╧═══════════════╛\n"
          ],
          "name": "stdout"
        }
      ]
    },
    {
      "cell_type": "markdown",
      "metadata": {
        "id": "6MX1VxmIKXId"
      },
      "source": [
        "# **IEEE Floating to Decimal Representation**"
      ]
    },
    {
      "cell_type": "code",
      "metadata": {
        "colab": {
          "base_uri": "https://localhost:8080/"
        },
        "id": "uedPTRbPKgxX",
        "outputId": "36c17a0e-c6d1-4297-8e99-471f18f10332"
      },
      "source": [
        "num = \"0x107FE77\"\n",
        "fraction_bit = 23\n",
        "exponent_bit = 8\n",
        "\n",
        "binary_num = bin(int(num,16)).replace('0b','')\n",
        "sign_bit = binary_num[0]\n",
        "exponent = binary_num[1:exponent_bit+1]\n",
        "fraction = binary_num[exponent_bit+1 : ]\n",
        "table = [['Sign Bit', 'Exponent', 'Fraction/Mantissa', 'Hexadecimal'],[sign_bit,exponent,fraction]]\n",
        "print(f\"Hexadecimal {num} to binary {binary_num}\\n\")\n",
        "print(tabulate(table, headers='firstrow', tablefmt='fancy_grid',numalign='center'))\n",
        "\n",
        "biased_exponent = int(exponent,2)\n",
        "print(f\"\\nBiased Exponent = {biased_exponent}\")\n",
        "exponent_decimal = biased_exponent - (2**(exponent_bit-1)-1)\n",
        "print(f\"Exponent in decimal = {exponent_decimal}\")\n",
        "\n",
        "\n",
        "fraction_decimal = 0.0\n",
        "for i in range(len(fraction)):\n",
        "    if fraction[i] == '1':\n",
        "        fraction_decimal += 2**(-(i+1))\n",
        "\n",
        "fraction_decimal = round(fraction_decimal,10)\n",
        "print(f\"Fraction/Mantisaa = 0.{fraction} = {fraction_decimal}\")\n",
        "\n",
        "decimal_value = ((-1)**int(sign_bit)) *(1+fraction_decimal) * 2**exponent_decimal \n",
        "print(f\"\\nDecimal value of {num} without rounding = {str(decimal_value).replace('e',' x 10^')}\")\n",
        "decimal_value = str(decimal_value).split('e')\n",
        "\n",
        "rounding_position = 5  ################\n",
        "first = round(float(decimal_value[0]),rounding_position) ##########\n",
        "second = decimal_value[1]\n",
        "decimal_value = str(first)+\" x 10^\"+ second\n",
        "print(f\"Decimal value of {num} with rounding upto {rounding_position} position = {decimal_value}\")"
      ],
      "execution_count": null,
      "outputs": [
        {
          "output_type": "stream",
          "text": [
            "Hexadecimal 0x107FE77 to binary 1000001111111111001110111\n",
            "\n",
            "╒════════════╤════════════╤═════════════════════╕\n",
            "│  Sign Bit  │  Exponent  │  Fraction/Mantissa  │\n",
            "╞════════════╪════════════╪═════════════════════╡\n",
            "│     1      │  00000111  │  1111111001110111   │\n",
            "╘════════════╧════════════╧═════════════════════╛\n",
            "\n",
            "Biased Exponent = 7\n",
            "Exponent in decimal = -120\n",
            "Fraction/Mantisaa = 0.1111111001110111 = 0.9940032959\n",
            "\n",
            "Decimal value of 0x107FE77 without rounding = -1.5001213503049422 x 10^-36\n",
            "Decimal value of 0x107FE77 with rounding upto 5 position = -1.50012 x 10^-36\n"
          ],
          "name": "stdout"
        }
      ]
    },
    {
      "cell_type": "code",
      "metadata": {
        "colab": {
          "base_uri": "https://localhost:8080/"
        },
        "id": "v7m86Js3s9lq",
        "outputId": "33f42e3c-04ea-4497-e34c-96e301b0ffff"
      },
      "source": [
        "def negBinary_decimal(num):\n",
        "    num = [1 if i == '1' else 0 for i in num]\n",
        "    result = 2*(-num[0] * 2**(len(num)-1))\n",
        "    x = 0\n",
        "    for i in num[::-1]:\n",
        "        result += i*2**(x)\n",
        "        x += 1\n",
        "    return result\n",
        "\n",
        "num = \"100110\"\n",
        "u = 5\n",
        "n = negBinary_decimal(num)\n",
        "\n",
        "overflow_tracker = n in range(-2**(u-1),2**(u-1)-1) \n",
        "print(\"No Overflow\" if overflow_tracker else \"Overflow\")\n"
      ],
      "execution_count": null,
      "outputs": [
        {
          "output_type": "stream",
          "text": [
            "Overflow\n"
          ],
          "name": "stdout"
        }
      ]
    }
  ]
}